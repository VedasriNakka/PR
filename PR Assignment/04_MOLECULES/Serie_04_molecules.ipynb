{
 "cells": [
  {
   "cell_type": "markdown",
   "metadata": {
    "pycharm": {
     "name": "#%% md\n"
    }
   },
   "source": [
    "# Excercise 4\n",
    "Authors: Moro Palma Loris, Vedasri Nakka, Mirko Bristle, Alexandra Kovacs, Michael Brunner\n",
    "\n",
    "Deadline: May 30, 2021 (end of day)\n",
    "\n",
    "\n"
   ]
  },
  {
   "cell_type": "code",
   "execution_count": 9,
   "metadata": {
    "pycharm": {
     "name": "#%% read the data\n"
    }
   },
   "outputs": [],
   "source": [
    "import os\n",
    "import xml.etree.ElementTree as ET\n",
    "import pandas as pd\n",
    "\n",
    "\n",
    "def get_graph_list(path, type):\n",
    "    activity_df = pd.read_csv(type + \".txt\", sep=\" \", header=None)\n",
    "\n",
    "    graph_list = list()\n",
    "    for idx in activity_df.index:\n",
    "\n",
    "        tree = ET.parse(path + str(activity_df[0][idx]) + \".gxl\")\n",
    "        node_list = list()\n",
    "        for node in tree.findall(\".//node\"):\n",
    "            node_attr = node.findall(\".//attr/\")\n",
    "            node_list.append(\n",
    "                {\n",
    "                    \"id\": node.attrib['id'],\n",
    "                    \"symbol\": str(node_attr[0].text),\n",
    "                    \"chem\": int(node_attr[1].text),\n",
    "                    \"charge\": int(node_attr[2].text),\n",
    "                    \"x\": float(node_attr[3].text),\n",
    "                    \"y\": float(node_attr[4].text),\n",
    "                }\n",
    "            )\n",
    "\n",
    "        edge_list = list()\n",
    "        for edge in tree.findall(\".//edge\"):\n",
    "            edge_list.append({\n",
    "                'start': edge.get('from'),\n",
    "                'end': edge.get('to'),\n",
    "                'valence': int(edge.find(\".//attr/\").text)\n",
    "            })\n",
    "        graph_list.append({\n",
    "            \"id\": activity_df[0][idx],\n",
    "            \"activity\": activity_df[1][idx],\n",
    "            \"nodes\": node_list,\n",
    "            \"edges\": edge_list\n",
    "        })\n",
    "    return graph_list\n",
    "\n",
    "\n",
    "train_graphs = get_graph_list(\"gxl/\", \"train\")\n",
    "valid_graphs = get_graph_list(\"gxl/\", \"valid\")\n"
   ]
  },
  {
   "cell_type": "code",
   "execution_count": 10,
   "outputs": [],
   "source": [
    "import numpy as np\n",
    "\n",
    "\n",
    "# get the representation of graph: list of nodes T(<label: string>,<number of edges of the node: int>)\n",
    "\n",
    "def get_dirac_feature_labels(graph_list):\n",
    "    dirac_graph_feature_list = list()\n",
    "    dirac_graph_label_list = list()\n",
    "    for graph in graph_list:\n",
    "        dirac_node_list = list()\n",
    "        for node in graph['nodes']:\n",
    "            num_nodes = np.sum([1 if node['id'] in [edge['start'], edge['end']] else 0 for edge in graph['edges']])\n",
    "            dirac_node_list.append([\n",
    "                node['symbol'],\n",
    "                num_nodes\n",
    "            ])\n",
    "        dirac_graph_feature_list.append(np.asarray(dirac_node_list))\n",
    "        # do some binary encoding\n",
    "        dirac_graph_label_list.append(0 if graph['activity'] == 'i' else 1)\n",
    "    return dirac_graph_feature_list, dirac_graph_label_list\n",
    "\n",
    "\n",
    "train_x, train_y = get_dirac_feature_labels(train_graphs)\n",
    "test_x, test_y = get_dirac_feature_labels(valid_graphs)\n"
   ],
   "metadata": {
    "collapsed": false,
    "pycharm": {
     "name": "#%% prepare data for dirac\n"
    }
   }
  },
  {
   "cell_type": "code",
   "execution_count": 11,
   "outputs": [],
   "source": [
    "from dirac import hungarian_metric\n",
    "from scipy import stats\n",
    "\n",
    "\n",
    "def get_neighbors(test_x_i, test_y_i, train_x, train_y):\n",
    "    distance = np.asarray([hungarian_metric(i, test_x_i) for i in train_x])\n",
    "    dist_labels = np.stack((distance, np.asarray(train_y)), axis=1)\n",
    "    dist_labels = dist_labels[np.argsort(dist_labels[:, 0])]\n",
    "\n",
    "    return dist_labels[:, 1]\n",
    "\n",
    "\n",
    "# kNN Algorithm\n",
    "def k_nearest_neighbors(train_x, train_y, test_x, test_y):\n",
    "    neighbors = [get_neighbors(test_x[t], test_y[t], train_x, train_y) for t in range(len(test_y))]\n",
    "    return neighbors\n",
    "\n",
    "\n",
    "def get_mode(neighbors, k):\n",
    "    return stats.mode(neighbors[0:k]).mode[0]\n",
    "\n",
    "\n",
    "neighbors_list = k_nearest_neighbors(train_x, train_y, test_x, test_y)\n",
    "\n",
    "out = pd.DataFrame(columns=['K', 'Accuracy'])\n",
    "\n",
    "for k in [1, 3, 5, 10, 15, 20, 30, 40, 50]:\n",
    "    predictions = [get_mode(neighbors, k) for neighbors in neighbors_list]\n",
    "    acc = np.mean(np.equal(np.asarray(test_y, dtype=bool), np.asarray(predictions, dtype=bool)))\n",
    "    out = out.append({\n",
    "        'K': k,\n",
    "        'Accuracy': acc},\n",
    "        ignore_index=True)\n"
   ],
   "metadata": {
    "collapsed": false,
    "pycharm": {
     "name": "#%% implement the KNN and do cross validation\n"
    }
   }
  },
  {
   "cell_type": "code",
   "execution_count": 12,
   "outputs": [
    {
     "data": {
      "text/plain": "<Figure size 432x288 with 1 Axes>",
      "image/png": "[encoded data removed]"
     },
     "metadata": {
      "needs_background": "light"
     },
     "output_type": "display_data"
    },
    {
     "data": {
      "text/plain": "      K  Accuracy\n0   1.0     0.996\n1   3.0     0.996\n2   5.0     0.996\n3  10.0     0.992\n4  15.0     0.992\n5  20.0     0.988\n6  30.0     0.988\n7  40.0     0.976\n8  50.0     0.952",
      "text/html": "<div>\n<style scoped>\n    .dataframe tbody tr th:only-of-type {\n        vertical-align: middle;\n    }\n\n    .dataframe tbody tr th {\n        vertical-align: top;\n    }\n\n    .dataframe thead th {\n        text-align: right;\n    }\n</style>\n<table border=\"1\" class=\"dataframe\">\n  <thead>\n    <tr style=\"text-align: right;\">\n      <th></th>\n      <th>K</th>\n      <th>Accuracy</th>\n    </tr>\n  </thead>\n  <tbody>\n    <tr>\n      <th>0</th>\n      <td>1.0</td>\n      <td>0.996</td>\n    </tr>\n    <tr>\n      <th>1</th>\n      <td>3.0</td>\n      <td>0.996</td>\n    </tr>\n    <tr>\n      <th>2</th>\n      <td>5.0</td>\n      <td>0.996</td>\n    </tr>\n    <tr>\n      <th>3</th>\n      <td>10.0</td>\n      <td>0.992</td>\n    </tr>\n    <tr>\n      <th>4</th>\n      <td>15.0</td>\n      <td>0.992</td>\n    </tr>\n    <tr>\n      <th>5</th>\n      <td>20.0</td>\n      <td>0.988</td>\n    </tr>\n    <tr>\n      <th>6</th>\n      <td>30.0</td>\n      <td>0.988</td>\n    </tr>\n    <tr>\n      <th>7</th>\n      <td>40.0</td>\n      <td>0.976</td>\n    </tr>\n    <tr>\n      <th>8</th>\n      <td>50.0</td>\n      <td>0.952</td>\n    </tr>\n  </tbody>\n</table>\n</div>"
     },
     "metadata": {},
     "output_type": "display_data"
    }
   ],
   "source": [
    "import matplotlib.pyplot as plt\n",
    "from IPython.display import display\n",
    "import pandas as pd\n",
    "\n",
    "plt.plot('K', 'Accuracy', data=out, marker='o', markerfacecolor='r', markersize=12, color='r', linewidth=4)\n",
    "plt.show()\n",
    "display(out)"
   ],
   "metadata": {
    "collapsed": false,
    "pycharm": {
     "name": "#%%\n"
    }
   }
  }
 ],
 "metadata": {
  "kernelspec": {
   "display_name": "Python 3",
   "language": "python",
   "name": "python3"
  },
  "language_info": {
   "codemirror_mode": {
    "name": "ipython",
    "version": 3
   },
   "file_extension": ".py",
   "mimetype": "text/x-python",
   "name": "python",
   "nbconvert_exporter": "python",
   "pygments_lexer": "ipython3",
   "version": "3.9.0"
  }
 },
 "nbformat": 4,
 "nbformat_minor": 1
}