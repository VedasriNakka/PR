{
 "cells": [
  {
   "cell_type": "markdown",
   "metadata": {
    "pycharm": {
     "name": "#%% md\n"
    }
   },
   "source": [
    "# Excercise 2a\n",
    "Authors: Moro Palma Loris, Vedasri Nakka, Mirko Bristle, Alexandra Kovacs, Michael Brunner\n",
    "\n",
    "\n",
    "Deadline: April 19, 2021 (end of day) With this exercise we want you to build the foundation for your Pattern Recognition Framework.\n",
    "To do this you should still work on the MNIST dataset, with which you should be familiar by now.\n",
    "In this exercise you should aim to improve the recognition rate on the MNIST dataset using SVM.\n",
    "\n",
    "Discuss a good architecture for your framework so that you can reuse software components in later exercises.\n",
    "\n",
    "- Reminder: As already discussed. From now on you are free to either implement algorithms on your own or use any kinds of libraries.\n",
    "\n",
    "## SVM\n",
    "\n",
    "Use the provided training set to build your SVM.\n",
    "Apply the trained SVM to classify the test set.\n",
    "Investigate at least two diﬀerent kernels and optimize the SVM parameters by means of cross-validation.\n",
    "\n",
    "## Expected Output\n",
    "• Access to your GitHub so that we can inspect your code.\n",
    "\n",
    "• Small report in PDF / README format on the GitHub containing:\n",
    "\n",
    "– Average accuracy during cross-validation for all investigated kernels (e.g. linear and RBF) and all parameter values (e.g. C and γ ).\n",
    "\n",
    "– Accuracy on the test set with the optimized parameter values.\n"
   ]
  },
  {
   "cell_type": "code",
   "execution_count": 22,
   "metadata": {
    "pycharm": {
     "name": "#%% read the data\n"
    }
   },
   "outputs": [],
   "source": [
    "import pandas as pd\n",
    "train_data = pd.read_csv(\"data/mnist-csv-format/mnist_train.csv\", header=0)\n",
    "test_data = pd.read_csv(\"data/mnist-csv-format/mnist_test.csv\", header=0)\n",
    "\n",
    "train_y = train_data.iloc[:,0].to_numpy()\n",
    "train_x = train_data.iloc[:,1:].to_numpy()\n",
    "\n",
    "test_y = test_data.iloc[:,0].to_numpy()\n",
    "test_x = test_data.iloc[:,1:].to_numpy()"
   ]
  },
  {
   "cell_type": "code",
   "execution_count": 23,
   "metadata": {
    "pycharm": {
     "name": "#%% crossvalidate the kernals\n"
    }
   },
   "outputs": [
    {
     "name": "stdout",
     "output_type": "stream",
     "text": [
      "Mean accuracy on development set:\n",
      "\n",
      "0.453 for {'SVM__C': 0.1, 'SVM__gamma': 0.1, 'SVM__kernel': 'rbf'}\n",
      "0.938 for {'SVM__C': 0.1, 'SVM__gamma': 0.01, 'SVM__kernel': 'rbf'}\n",
      "0.882 for {'SVM__C': 0.1, 'SVM__gamma': 0.001, 'SVM__kernel': 'rbf'}\n",
      "0.914 for {'SVM__C': 1, 'SVM__gamma': 0.1, 'SVM__kernel': 'rbf'}\n",
      "0.966 for {'SVM__C': 1, 'SVM__gamma': 0.01, 'SVM__kernel': 'rbf'}\n",
      "0.923 for {'SVM__C': 1, 'SVM__gamma': 0.001, 'SVM__kernel': 'rbf'}\n",
      "0.918 for {'SVM__C': 10, 'SVM__gamma': 0.1, 'SVM__kernel': 'rbf'}\n",
      "0.973 for {'SVM__C': 10, 'SVM__gamma': 0.01, 'SVM__kernel': 'rbf'}\n",
      "0.944 for {'SVM__C': 10, 'SVM__gamma': 0.001, 'SVM__kernel': 'rbf'}\n",
      "0.918 for {'SVM__C': 100, 'SVM__gamma': 0.1, 'SVM__kernel': 'rbf'}\n",
      "0.974 for {'SVM__C': 100, 'SVM__gamma': 0.01, 'SVM__kernel': 'rbf'}\n",
      "0.955 for {'SVM__C': 100, 'SVM__gamma': 0.001, 'SVM__kernel': 'rbf'}\n",
      "0.918 for {'SVM__C': 1000, 'SVM__gamma': 0.1, 'SVM__kernel': 'rbf'}\n",
      "0.974 for {'SVM__C': 1000, 'SVM__gamma': 0.01, 'SVM__kernel': 'rbf'}\n",
      "0.955 for {'SVM__C': 1000, 'SVM__gamma': 0.001, 'SVM__kernel': 'rbf'}\n",
      "0.936 for {'SVM__C': 0.1, 'SVM__kernel': 'linear'}\n",
      "0.923 for {'SVM__C': 1, 'SVM__kernel': 'linear'}\n",
      "0.913 for {'SVM__C': 10, 'SVM__kernel': 'linear'}\n",
      "0.908 for {'SVM__C': 100, 'SVM__kernel': 'linear'}\n",
      "0.908 for {'SVM__C': 1000, 'SVM__kernel': 'linear'}\n",
      "\n",
      "The optimal parameters are: {'SVM__C': 100, 'SVM__gamma': 0.01, 'SVM__kernel': 'rbf'}\n"
     ]
    }
   ],
   "source": [
    "import numpy as np\n",
    "from sklearn.svm import SVC\n",
    "from sklearn.model_selection import GridSearchCV\n",
    "from sklearn.pipeline import Pipeline\n",
    "from sklearn.preprocessing import MinMaxScaler\n",
    "\n",
    "\n",
    "def preprocessing_crossvalidation_svm():\n",
    "    steps = [('scaler', MinMaxScaler()), ('SVM', SVC())]\n",
    "    pipeline = Pipeline(steps)\n",
    "\n",
    "    # Set the parameters by cross-validation\n",
    "\n",
    "    tuning_parameters = [\n",
    "        {'SVM__kernel': ['rbf'], 'SVM__gamma': [1e-1, 1e-2, 1e-3], 'SVM__C': [1e-1, 1, 10, 100, 1000]},\n",
    "        {'SVM__kernel': ['linear'], 'SVM__C': [1e-1, 1, 10, 100, 1000]}]\n",
    "\n",
    "    clf = GridSearchCV(pipeline, param_grid=tuning_parameters, scoring='accuracy', n_jobs=-1, cv=5)\n",
    "    clf.fit(train_x, train_y)\n",
    "\n",
    "    print(\"Mean accuracy on development set:\")\n",
    "    print()\n",
    "    means = clf.cv_results_['mean_test_score']\n",
    "\n",
    "    for mean, params in zip(means, clf.cv_results_['params']):\n",
    "        print(\"%0.3f for %r\"% (mean, params))\n",
    "\n",
    "    print()\n",
    "    print(f\"The optimal parameters are: {clf.best_params_}\")\n",
    "    return clf.best_estimator_\n",
    "\n",
    "clf_optimized = preprocessing_crossvalidation_svm()"
   ]
  },
  {
   "cell_type": "code",
   "execution_count": 24,
   "metadata": {
    "pycharm": {
     "name": "#%% evaluate on test set\n"
    }
   },
   "outputs": [
    {
     "name": "stdout",
     "output_type": "stream",
     "text": [
      "The accuracy on the test set with optimized parameters is: 97.69 %\n"
     ]
    }
   ],
   "source": [
    "from sklearn.metrics import accuracy_score\n",
    "\n",
    "clf_optimized.fit(train_x, train_y)\n",
    "test_pred_y = clf_optimized.predict(test_x)\n",
    "acc = accuracy_score(test_y, test_pred_y)\n",
    "print(f\"The accuracy on the test set with optimized parameters is: {round(acc*100,2)} %\")"
   ]
  },
  {
   "cell_type": "code",
   "execution_count": 25,
   "metadata": {
    "pycharm": {
     "name": "#%%\n"
    }
   },
   "outputs": [
    {
     "data": {
      "text/plain": "<Figure size 504x504 with 9 Axes>",
      "image/png": "[encoded data removed]"
     },
     "metadata": {
      "needs_background": "light"
     },
     "output_type": "display_data"
    },
    {
     "data": {
      "text/plain": "<Figure size 504x504 with 9 Axes>",
      "image/png": "[encoded data removed]"
     },
     "metadata": {
      "needs_background": "light"
     },
     "output_type": "display_data"
    }
   ],
   "source": [
    "import matplotlib.pyplot as plt\n",
    "import random as rnd\n",
    "\n",
    "correct_prediction = [i for i in range(test_x.shape[0]) if test_y[i]==test_pred_y[i]]\n",
    "false_prediction = [i for i in range(test_x.shape[0]) if test_y[i]!=test_pred_y[i]]\n",
    "\n",
    "fig=plt.figure(figsize=(7, 7))\n",
    "for k,v in enumerate([rnd.choice(correct_prediction) for i in range(9)]):\n",
    "    img = np.reshape(test_x[v],(28,28))\n",
    "    fig.add_subplot(3, 3, k+1)\n",
    "    fig.suptitle(\"Correct Predictions\", fontsize=16)\n",
    "    plt.title('predicted: {0}'. format(test_pred_y[v]))\n",
    "    plt.axis('off')\n",
    "    plt.imshow(img)\n",
    "\n",
    "fig=plt.figure(figsize=(7, 7))\n",
    "for k,v in enumerate([rnd.choice(false_prediction) for i in range(9)]):\n",
    "    img = np.reshape(test_x[v],(28,28))\n",
    "    fig.add_subplot(3, 3, k+1)\n",
    "    fig.suptitle(\"False Predictions\", fontsize=16)\n",
    "    plt.title('predicted: {0}'. format(test_pred_y[v]))\n",
    "    plt.axis('off')\n",
    "    plt.imshow(img)"
   ]
  }
 ],
 "metadata": {
  "kernelspec": {
   "display_name": "Python 3",
   "language": "python",
   "name": "python3"
  },
  "language_info": {
   "codemirror_mode": {
    "name": "ipython",
    "version": 3
   },
   "file_extension": ".py",
   "mimetype": "text/x-python",
   "name": "python",
   "nbconvert_exporter": "python",
   "pygments_lexer": "ipython3",
   "version": "3.9.0"
  }
 },
 "nbformat": 4,
 "nbformat_minor": 1
}